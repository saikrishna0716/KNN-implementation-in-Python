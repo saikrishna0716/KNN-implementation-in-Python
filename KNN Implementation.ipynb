{
 "cells": [
  {
   "cell_type": "code",
   "execution_count": null,
   "id": "999517e5",
   "metadata": {},
   "outputs": [],
   "source": [
    "import heapq\n",
    "from sklearn.metrics.pairwise import euclidean_distances\n",
    "\n",
    "distances = euclidean_distances(x_test.values,x_train.values)\n",
    "\n",
    "def KNN_Self(data, n_neighbours):\n",
    "    y_test_self.append(KNN_Self(i, 3))\n",
    "        dist_matrix = distances[data_row].tolist()\n",
    "        dictionary = dict(zip(dist_matrix,x_train.index))\n",
    "        while True: \n",
    "            if len(dictionary) == n_neighbours :\n",
    "                Species_list = df.loc[list(dictionary.values()),['Species']]\n",
    "                return (Species_list['Species'].mode()[0])\n",
    "                break\n",
    "            else:\n",
    "                dictionary.pop(heapq.nlargest(1,dictionary)[0])\n",
    "y_pred = []\n",
    "for i in range(0,len(data)):\n",
    "    y_pred.append(KNN_Self(i, 3))"
   ]
  }
 ],
 "metadata": {
  "kernelspec": {
   "display_name": "Python 3 (ipykernel)",
   "language": "python",
   "name": "python3"
  },
  "language_info": {
   "codemirror_mode": {
    "name": "ipython",
    "version": 3
   },
   "file_extension": ".py",
   "mimetype": "text/x-python",
   "name": "python",
   "nbconvert_exporter": "python",
   "pygments_lexer": "ipython3",
   "version": "3.8.8"
  }
 },
 "nbformat": 4,
 "nbformat_minor": 5
}

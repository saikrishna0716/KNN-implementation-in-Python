{
 "cells": [
  {
   "cell_type": "code",
   "execution_count": null,
   "id": "cc546493",
   "metadata": {},
   "outputs": [],
   "source": [
    "import heapq\n",
    "from sklearn.metrics.pairwise import euclidean_distances\n",
    "from sklearn.model_selection import cross_val_score, train_test_split\n",
    "\n",
    "x_train, x_test, y_train, y_test = train_test_split(x, y)\n",
    "\n",
    "distances = euclidean_distances(x_test.values,x_train.values)\n",
    "\n",
    "def KNN_Self(row, n_neighbours):\n",
    "        dist_matrix = distances[row].tolist()\n",
    "        dictionary = dict(zip(dist_matrix,x_train.index))\n",
    "        while True: \n",
    "            if len(dictionary) == n_neighbours :\n",
    "                Output_list = df.loc[list(dictionary.values()),['output']]\n",
    "                return (Output_list['output'].mode()[0])\n",
    "                break\n",
    "            else:\n",
    "                dictionary.pop(heapq.nlargest(1,dictionary)[0])\n",
    "\n",
    "y_pred = []\n",
    "for i in range(0,len(data)):\n",
    "    y_pred.append(KNN_Self(i, 3))"
   ]
  }
 ],
 "metadata": {
  "kernelspec": {
   "display_name": "Python 3 (ipykernel)",
   "language": "python",
   "name": "python3"
  },
  "language_info": {
   "codemirror_mode": {
    "name": "ipython",
    "version": 3
   },
   "file_extension": ".py",
   "mimetype": "text/x-python",
   "name": "python",
   "nbconvert_exporter": "python",
   "pygments_lexer": "ipython3",
   "version": "3.8.8"
  }
 },
 "nbformat": 4,
 "nbformat_minor": 5
}
